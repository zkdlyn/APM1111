{
 "cells": [
  {
   "cell_type": "code",
   "execution_count": 1,
   "id": "7a2160f1-62e5-4461-981e-922ef353a4ca",
   "metadata": {},
   "outputs": [],
   "source": [
    "import pandas as pd\n",
    "import statistics\n",
    "import numpy as np\n",
    "import matplotlib.pyplot as plt\n",
    "from scipy.stats import shapiro\n",
    "from scipy.stats import levene\n",
    "from scipy.stats import ttest_ind\n",
    "from scipy import stats\n",
    "import ptitprince as pt\n",
    "import seaborn as sns\n",
    "from IPython.display import display, HTML\n",
    "pd.options.display.float_format = '{:.4f}'.format\n"
   ]
  },
  {
   "cell_type": "code",
   "execution_count": 2,
   "id": "e340daae-4ce8-49c4-b250-40ca35ca110b",
   "metadata": {},
   "outputs": [],
   "source": [
    "male = [12,4,11,13,11,7,9,10,10,7,7,12,6,9,15,10,11,12,7,8,8,9,11,10,9,10,9,9,7,9,11,7,10,10,11,9,12,12,8,13,9,10,8,11,10,13,13,9,10,13]\n",
    "female = [11,9,7,10,9,10,10,7,9,10,11,8,9,6,11,10,7,9,12,14,11,12,12,8,12,12,9,10,11,7,12,7,9,8,11,10,8,13,8,10,9,9,9,11,9,9,8,9,12,11]\n",
    "\n",
    "male_df = pd.DataFrame(male).rename(columns={0:'Male'})\n",
    "female_df = pd.DataFrame(female).rename(columns={0:'Female'})\n",
    "\n",
    "df = pd.concat([male_df,female_df], axis=1)"
   ]
  },
  {
   "cell_type": "markdown",
   "id": "ef54faa4-a53b-4e26-9ba8-0904088eccbb",
   "metadata": {},
   "source": [
    "#### Rationale \n",
    "The study aims to compare the mean time spent on cell phones by male and female college students per week. Fifty male and fifty female students were selected from Midwestern University and the number of hours per week spent talking on their cell phones determined. An independent samples t-test may be conducted to assess if there is a statistically significant difference between these groups at a significance level of $\\alpha = 0.05$.\n",
    "\n",
    "#### Variables\n",
    "- Independent: Gender - categorical variable with two groups, male and female.\n",
    "- Dependent: Time spent on cellphones - continuous variable, measured in hours per week.\n",
    "\n",
    "#### Hypotheses\n",
    "- **Null Hypothesis** ($H_0$): There is no significant difference in the mean time spent on cell phones between male and female students. \n",
    "$$H_0 = \\mu_1 = \\mu_2$$\n",
    "    where $\\mu_1 $ is the mean time for males and $\\mu_2$ is the mean time for females.\n",
    "- **Alternative Hypothesis** ($H_1$): There is a significant difference in the mean time spent on cell phones between male and female students. \n",
    "$$H_1 = \\mu_1 \\neq \\mu_2$$\n",
    "    where $\\mu_1 $ is the mean time for males and $\\mu_2$ is the mean time for females.\n",
    "\n",
    "#### Significance Level\n",
    "The significance level for this study is set at $\\alpha = 0.05$. Hence, if the p-value obtained from the t-test is less than 0.05, we reject the null hypothesis which implies that there is a significant difference between the groups. Otherwise, we fail to reject the null hypothesis.\n"
   ]
  },
  {
   "cell_type": "code",
   "execution_count": 6,
   "id": "c849360c-27d2-439a-904f-5f2b517934c1",
   "metadata": {},
   "outputs": [
    {
     "data": {
      "text/html": [
       "<h4>Descriptive Statistical Summary</h4>"
      ],
      "text/plain": [
       "<IPython.core.display.HTML object>"
      ]
     },
     "metadata": {},
     "output_type": "display_data"
    },
    {
     "data": {
      "text/html": [
       "<div>\n",
       "<style scoped>\n",
       "    .dataframe tbody tr th:only-of-type {\n",
       "        vertical-align: middle;\n",
       "    }\n",
       "\n",
       "    .dataframe tbody tr th {\n",
       "        vertical-align: top;\n",
       "    }\n",
       "\n",
       "    .dataframe thead th {\n",
       "        text-align: right;\n",
       "    }\n",
       "</style>\n",
       "<table border=\"1\" class=\"dataframe\">\n",
       "  <thead>\n",
       "    <tr style=\"text-align: right;\">\n",
       "      <th></th>\n",
       "      <th>Male</th>\n",
       "      <th>Female</th>\n",
       "    </tr>\n",
       "  </thead>\n",
       "  <tbody>\n",
       "    <tr>\n",
       "      <th>Count</th>\n",
       "      <td>50.0000</td>\n",
       "      <td>50.0000</td>\n",
       "    </tr>\n",
       "    <tr>\n",
       "      <th>Mode</th>\n",
       "      <td>9.0000</td>\n",
       "      <td>9.0000</td>\n",
       "    </tr>\n",
       "    <tr>\n",
       "      <th>Median</th>\n",
       "      <td>10.0000</td>\n",
       "      <td>9.5000</td>\n",
       "    </tr>\n",
       "    <tr>\n",
       "      <th>Mean</th>\n",
       "      <td>9.8200</td>\n",
       "      <td>9.7000</td>\n",
       "    </tr>\n",
       "    <tr>\n",
       "      <th>Standard Deviation</th>\n",
       "      <td>2.1542</td>\n",
       "      <td>1.7757</td>\n",
       "    </tr>\n",
       "    <tr>\n",
       "      <th>Variance</th>\n",
       "      <td>4.6404</td>\n",
       "      <td>3.1531</td>\n",
       "    </tr>\n",
       "    <tr>\n",
       "      <th>Skewness</th>\n",
       "      <td>-0.1147</td>\n",
       "      <td>0.1344</td>\n",
       "    </tr>\n",
       "    <tr>\n",
       "      <th>Std. Error of Skewness</th>\n",
       "      <td>0.3366</td>\n",
       "      <td>0.3366</td>\n",
       "    </tr>\n",
       "    <tr>\n",
       "      <th>Kurtosis</th>\n",
       "      <td>0.1773</td>\n",
       "      <td>-0.4418</td>\n",
       "    </tr>\n",
       "    <tr>\n",
       "      <th>Std. Error of Kurtosis</th>\n",
       "      <td>0.6619</td>\n",
       "      <td>0.6619</td>\n",
       "    </tr>\n",
       "    <tr>\n",
       "      <th>Minimum</th>\n",
       "      <td>4.0000</td>\n",
       "      <td>6.0000</td>\n",
       "    </tr>\n",
       "    <tr>\n",
       "      <th>Maximum</th>\n",
       "      <td>15.0000</td>\n",
       "      <td>14.0000</td>\n",
       "    </tr>\n",
       "    <tr>\n",
       "      <th>25th percentile</th>\n",
       "      <td>9.0000</td>\n",
       "      <td>9.0000</td>\n",
       "    </tr>\n",
       "    <tr>\n",
       "      <th>50th percentile</th>\n",
       "      <td>10.0000</td>\n",
       "      <td>9.5000</td>\n",
       "    </tr>\n",
       "    <tr>\n",
       "      <th>75th percentile</th>\n",
       "      <td>11.0000</td>\n",
       "      <td>11.0000</td>\n",
       "    </tr>\n",
       "    <tr>\n",
       "      <th>90th percentile</th>\n",
       "      <td>13.0000</td>\n",
       "      <td>12.0000</td>\n",
       "    </tr>\n",
       "    <tr>\n",
       "      <th>95th percentile</th>\n",
       "      <td>13.0000</td>\n",
       "      <td>12.0000</td>\n",
       "    </tr>\n",
       "  </tbody>\n",
       "</table>\n",
       "</div>"
      ],
      "text/plain": [
       "                          Male  Female\n",
       "Count                  50.0000 50.0000\n",
       "Mode                    9.0000  9.0000\n",
       "Median                 10.0000  9.5000\n",
       "Mean                    9.8200  9.7000\n",
       "Standard Deviation      2.1542  1.7757\n",
       "Variance                4.6404  3.1531\n",
       "Skewness               -0.1147  0.1344\n",
       "Std. Error of Skewness  0.3366  0.3366\n",
       "Kurtosis                0.1773 -0.4418\n",
       "Std. Error of Kurtosis  0.6619  0.6619\n",
       "Minimum                 4.0000  6.0000\n",
       "Maximum                15.0000 14.0000\n",
       "25th percentile         9.0000  9.0000\n",
       "50th percentile        10.0000  9.5000\n",
       "75th percentile        11.0000 11.0000\n",
       "90th percentile        13.0000 12.0000\n",
       "95th percentile        13.0000 12.0000"
      ]
     },
     "metadata": {},
     "output_type": "display_data"
    },
    {
     "data": {
      "text/html": [
       "<p>Note: Only the first mode is displayed.</p> "
      ],
      "text/plain": [
       "<IPython.core.display.HTML object>"
      ]
     },
     "metadata": {},
     "output_type": "display_data"
    }
   ],
   "source": [
    "def describe(data, df):\n",
    "    count = df.count().to_frame(name=\"Count\").transpose()\n",
    "    mode = pd.Series(data).mode().tolist()\n",
    "    measures = df.agg(['median', 'mean', 'std', 'var', 'skew', 'kurt'])\n",
    "    measures = measures.rename(index={\n",
    "        'median': 'Median','mean': 'Mean','std': 'Standard Deviation',\n",
    "        'var': 'Variance','skew': 'Skewness','kurt': 'Kurtosis'\n",
    "    })\n",
    "    measures.loc['Mode'] = mode[0]\n",
    "    min_val = df.min().to_frame(name=\"Minimum\").transpose()\n",
    "    max_val = df.max().to_frame(name=\"Maximum\").transpose()\n",
    "\n",
    "    percentiles = df.quantile([0.25, 0.50, 0.75, 0.90, 0.95])\n",
    "    percentiles = percentiles.rename(index={\n",
    "        0.25: '25th percentile', 0.5: '50th percentile',\n",
    "        0.75: '75th percentile', 0.9: '90th percentile', 0.95: '95th percentile'\n",
    "    })\n",
    "\n",
    "    skew_err_formula = lambda x: np.sqrt((6 * len(x) * (len(x)-1)) / ((len(x)-2) * (len(x)+1) * (len(x)+3)))\n",
    "    skew_stderror = df.apply(skew_err_formula)\n",
    "    skew_stderror = skew_stderror.to_frame(name='Std. Error of Skewness').transpose()\n",
    "\n",
    "    kurt_err_formula = lambda x: np.sqrt((24 * len(x) * (len(x) - 1) * (len(x) - 1)) / \n",
    "                                           ((len(x) - 3) * (len(x) - 2) * (len(x) + 3) * (len(x) + 5)))\n",
    "    kurt_stderror = df.apply(kurt_err_formula)\n",
    "    kurt_stderror = kurt_stderror.to_frame(name='Std. Error of Kurtosis').transpose()\n",
    "    table_df = pd.concat([count, measures,skew_stderror, kurt_stderror, min_val, max_val, percentiles])\n",
    "    table_df = table_df.reindex(['Count','Mode','Median', 'Mean', 'Standard Deviation', 'Variance', \n",
    "                                 'Skewness', 'Std. Error of Skewness','Kurtosis', 'Std. Error of Kurtosis', \n",
    "                                 'Minimum', 'Maximum', '25th percentile','50th percentile', '75th percentile', \n",
    "                                 '90th percentile', '95th percentile'])\n",
    "    return table_df\n",
    "    \n",
    "male_stats = describe(male, male_df)\n",
    "female_stats = describe(female, female_df)\n",
    "\n",
    "display(HTML(\"\"\"<h4>Descriptive Statistical Summary</h4>\"\"\"))\n",
    "display(pd.concat([male_stats,female_stats], axis=1))\n",
    "display(HTML(\"\"\"<p>Note: Only the first mode is displayed.</p> \"\"\"))"
   ]
  },
  {
   "cell_type": "markdown",
   "id": "743193e6-ddfa-45e2-bca1-2e499274e59a",
   "metadata": {},
   "source": [
    "#### Assumption Checks\n",
    "\n",
    "**Assumption 1.** The dependent variable (Time) is a continuous level. \\\n",
    "**Assumption 2.** The independent variable (Gender) is a categorical variable and consists of two independent groups (Male, Female) \\\n",
    "**Assumption 3.** Each participant is present only to one group.\n"
   ]
  },
  {
   "cell_type": "markdown",
   "id": "4d77d5a7-ae3c-4b0b-9cdd-5a9f8d60737f",
   "metadata": {},
   "source": [
    "**Assumption 4. Outliers.** "
   ]
  },
  {
   "cell_type": "code",
   "execution_count": 9,
   "id": "c25e4292-73cd-44ae-9929-f0f555f4752b",
   "metadata": {},
   "outputs": [
    {
     "data": {
      "image/png": "[encoded data removed]",
      "text/plain": [
       "<Figure size 640x480 with 1 Axes>"
      ]
     },
     "metadata": {},
     "output_type": "display_data"
    }
   ],
   "source": [
    "df_melted = df.melt(var_name='Gender', value_name='Time')\n",
    "pt.RainCloud(data=df_melted, x='Gender', y='Time', bw=.2)\n",
    "\n",
    "plt.title('Time Spent on Cell Phones by Male and Female Students')\n",
    "plt.xlabel('Gender')\n",
    "plt.ylabel('Time (in hours)')\n",
    "plt.show()"
   ]
  },
  {
   "cell_type": "markdown",
   "id": "cfd29829-ca4a-4341-aa9a-e288f32003ad",
   "metadata": {},
   "source": [
    "By visual inspection of the plots, some outliers are present in the Male group and none in the Female group. "
   ]
  },
  {
   "cell_type": "markdown",
   "id": "d8db5ca8-84b3-4273-94a6-11b9ea1bd761",
   "metadata": {},
   "source": [
    "**Assumption 5. Normality**"
   ]
  },
  {
   "cell_type": "code",
   "execution_count": 10,
   "id": "f21e73de-bc76-4a61-a0f2-73b9bb2e27e8",
   "metadata": {},
   "outputs": [
    {
     "data": {
      "text/html": [
       "<h5>Test for Normality (Shapiro-Wilk)</h5>"
      ],
      "text/plain": [
       "<IPython.core.display.HTML object>"
      ]
     },
     "metadata": {},
     "output_type": "display_data"
    },
    {
     "data": {
      "text/html": [
       "<div>\n",
       "<style scoped>\n",
       "    .dataframe tbody tr th:only-of-type {\n",
       "        vertical-align: middle;\n",
       "    }\n",
       "\n",
       "    .dataframe tbody tr th {\n",
       "        vertical-align: top;\n",
       "    }\n",
       "\n",
       "    .dataframe thead th {\n",
       "        text-align: right;\n",
       "    }\n",
       "</style>\n",
       "<table border=\"1\" class=\"dataframe\">\n",
       "  <thead>\n",
       "    <tr style=\"text-align: right;\">\n",
       "      <th></th>\n",
       "      <th>Statistic</th>\n",
       "      <th>p-value</th>\n",
       "    </tr>\n",
       "  </thead>\n",
       "  <tbody>\n",
       "    <tr>\n",
       "      <th>Male</th>\n",
       "      <td>0.9747</td>\n",
       "      <td>0.3540</td>\n",
       "    </tr>\n",
       "    <tr>\n",
       "      <th>Female</th>\n",
       "      <td>0.9639</td>\n",
       "      <td>0.1292</td>\n",
       "    </tr>\n",
       "  </tbody>\n",
       "</table>\n",
       "</div>"
      ],
      "text/plain": [
       "        Statistic  p-value\n",
       "Male       0.9747   0.3540\n",
       "Female     0.9639   0.1292"
      ]
     },
     "metadata": {},
     "output_type": "display_data"
    }
   ],
   "source": [
    "male_data =male_df['Male']\n",
    "female_data = df['Female']\n",
    "shapiro_male = shapiro(male_data)\n",
    "shapiro_female = shapiro(female_data)\n",
    "shapiro_male = pd.DataFrame({'Male': shapiro_male}).transpose()\n",
    "shapiro_female = pd.DataFrame({'Female': shapiro_female}).transpose()\n",
    "display(HTML(\"\"\"<h5>Test for Normality (Shapiro-Wilk)</h5>\"\"\"))\n",
    "display(pd.concat([shapiro_male,shapiro_female]).rename(columns={0:'Statistic', 1:'p-value'}))"
   ]
  },
  {
   "cell_type": "markdown",
   "id": "b894a048-8667-48fb-a89e-0c02f7414886",
   "metadata": {},
   "source": [
    "The test statistic for the Male group (0.9747) and Female group (0.9639) indicate that the distributions resemble a normal distribution. According to the Shapiro-Wilk test, the dependent variable (Time) for each group, Male and Female, is normally distributed (p > 0.05)."
   ]
  },
  {
   "cell_type": "markdown",
   "id": "e50f6dbc-e81a-4ded-a191-c326b825213a",
   "metadata": {},
   "source": [
    "**Assumption 6. Homogeneity of Variances**"
   ]
  },
  {
   "cell_type": "code",
   "execution_count": 11,
   "id": "c0315e69-3e1c-4d92-84da-0116262f7b3b",
   "metadata": {},
   "outputs": [
    {
     "data": {
      "text/html": [
       "<h5>Test of Equality of Variances (Levene's)</h5>"
      ],
      "text/plain": [
       "<IPython.core.display.HTML object>"
      ]
     },
     "metadata": {},
     "output_type": "display_data"
    },
    {
     "data": {
      "text/html": [
       "<div>\n",
       "<style scoped>\n",
       "    .dataframe tbody tr th:only-of-type {\n",
       "        vertical-align: middle;\n",
       "    }\n",
       "\n",
       "    .dataframe tbody tr th {\n",
       "        vertical-align: top;\n",
       "    }\n",
       "\n",
       "    .dataframe thead th {\n",
       "        text-align: right;\n",
       "    }\n",
       "</style>\n",
       "<table border=\"1\" class=\"dataframe\">\n",
       "  <thead>\n",
       "    <tr style=\"text-align: right;\">\n",
       "      <th></th>\n",
       "      <th>F</th>\n",
       "      <th>p</th>\n",
       "      <th>df</th>\n",
       "    </tr>\n",
       "  </thead>\n",
       "  <tbody>\n",
       "    <tr>\n",
       "      <th>Time</th>\n",
       "      <td>0.6943</td>\n",
       "      <td>0.4067</td>\n",
       "      <td>1</td>\n",
       "    </tr>\n",
       "  </tbody>\n",
       "</table>\n",
       "</div>"
      ],
      "text/plain": [
       "          F      p  df\n",
       "Time 0.6943 0.4067   1"
      ]
     },
     "metadata": {},
     "output_type": "display_data"
    }
   ],
   "source": [
    "levene_test = levene(male_data, female_data)\n",
    "levene_df = pd.DataFrame({'Time': levene_test}).rename(index={0:'F', 1:'p'}).transpose()\n",
    "levene_df['df'] =[1]\n",
    "\n",
    "display(HTML(\"\"\"<h5>Test of Equality of Variances (Levene's)</h5>\"\"\"))\n",
    "display(levene_df)"
   ]
  },
  {
   "cell_type": "markdown",
   "id": "94401476-7c6e-455f-8eec-56e0d5268ab8",
   "metadata": {},
   "source": [
    "According to Levene's test of equality of variances, there is not enough statistic evidence to imply a significant difference between the variances of the groups (Male, Female) on their mean time spent on cell phone per week."
   ]
  },
  {
   "cell_type": "markdown",
   "id": "11f4c124-74c0-46a9-a3a7-6b1cbe50083d",
   "metadata": {},
   "source": [
    "#### Independent Samples t-Test"
   ]
  },
  {
   "cell_type": "code",
   "execution_count": 88,
   "id": "b3472866-3936-4644-9507-a047afe1d550",
   "metadata": {},
   "outputs": [
    {
     "data": {
      "text/html": [
       "<h5>Independent Samples T-Test</h5>"
      ],
      "text/plain": [
       "<IPython.core.display.HTML object>"
      ]
     },
     "metadata": {},
     "output_type": "display_data"
    },
    {
     "data": {
      "text/html": [
       "<div>\n",
       "<style scoped>\n",
       "    .dataframe tbody tr th:only-of-type {\n",
       "        vertical-align: middle;\n",
       "    }\n",
       "\n",
       "    .dataframe tbody tr th {\n",
       "        vertical-align: top;\n",
       "    }\n",
       "\n",
       "    .dataframe thead th {\n",
       "        text-align: right;\n",
       "    }\n",
       "</style>\n",
       "<table border=\"1\" class=\"dataframe\">\n",
       "  <thead>\n",
       "    <tr style=\"text-align: right;\">\n",
       "      <th></th>\n",
       "      <th>t</th>\n",
       "      <th>p</th>\n",
       "      <th>df</th>\n",
       "      <th>Mean Difference</th>\n",
       "      <th>SE Difference</th>\n",
       "      <th>95% CI for Mean Difference</th>\n",
       "    </tr>\n",
       "  </thead>\n",
       "  <tbody>\n",
       "    <tr>\n",
       "      <th>Time</th>\n",
       "      <td>0.3039</td>\n",
       "      <td>0.7618</td>\n",
       "      <td>98</td>\n",
       "      <td>0.1200</td>\n",
       "      <td>0.3948</td>\n",
       "      <td>(-0.663, 0.903)</td>\n",
       "    </tr>\n",
       "  </tbody>\n",
       "</table>\n",
       "</div>"
      ],
      "text/plain": [
       "          t      p  df  Mean Difference  SE Difference  \\\n",
       "Time 0.3039 0.7618  98           0.1200         0.3948   \n",
       "\n",
       "     95% CI for Mean Difference  \n",
       "Time            (-0.663, 0.903)  "
      ]
     },
     "metadata": {},
     "output_type": "display_data"
    },
    {
     "data": {
      "text/html": [
       "<div>\n",
       "<style scoped>\n",
       "    .dataframe tbody tr th:only-of-type {\n",
       "        vertical-align: middle;\n",
       "    }\n",
       "\n",
       "    .dataframe tbody tr th {\n",
       "        vertical-align: top;\n",
       "    }\n",
       "\n",
       "    .dataframe thead th {\n",
       "        text-align: right;\n",
       "    }\n",
       "</style>\n",
       "<table border=\"1\" class=\"dataframe\">\n",
       "  <thead>\n",
       "    <tr style=\"text-align: right;\">\n",
       "      <th></th>\n",
       "      <th>95% CI for Population Mean</th>\n",
       "    </tr>\n",
       "  </thead>\n",
       "  <tbody>\n",
       "    <tr>\n",
       "      <th>Male</th>\n",
       "      <td>(9.208, 10.432)</td>\n",
       "    </tr>\n",
       "    <tr>\n",
       "      <th>Female</th>\n",
       "      <td>(9.196, 10.204)</td>\n",
       "    </tr>\n",
       "  </tbody>\n",
       "</table>\n",
       "</div>"
      ],
      "text/plain": [
       "       95% CI for Population Mean\n",
       "Male              (9.208, 10.432)\n",
       "Female            (9.196, 10.204)"
      ]
     },
     "metadata": {},
     "output_type": "display_data"
    }
   ],
   "source": [
    "t_test = ttest_ind(male_data, female_data)\n",
    "t_test_df = pd.DataFrame({'Time': t_test}).rename(index={0:'t', 1:'p'}).transpose()\n",
    "dof = (len(male_data) + len(female_data))-2\n",
    "t_test_df['df'] = [dof]\n",
    "\n",
    "mean_male = np.mean(male_data)\n",
    "mean_female = np.mean(female_data)\n",
    "mean_difference = mean_male - mean_female\n",
    "stdev_male = np.std(male_data, ddof=1)\n",
    "stdev_female = np.std(female_data,ddof=1)\n",
    "\n",
    "se_male = stdev_male/(np.sqrt(len(male_data)))\n",
    "t_male = stats.t.ppf(1 - 0.05/2, len(male_data -1))\n",
    "se_female = stdev_female/(np.sqrt(len(female_data)))\n",
    "t_female = stats.t.ppf(1 - 0.05/2, len(female_data -1))\n",
    "\n",
    "CI_male = round((mean_male - t_male*se_male),3), round((mean_male + t_male*se_male),3)\n",
    "CI_female = round((mean_female - t_female*se_female),3), round((mean_female + t_female*se_female),3)\n",
    "                          \n",
    "se_diff =  np.sqrt(((stdev_male)**2/len(male_data)) + ((stdev_female)**2/len(female_data)))\n",
    "t_crit = stats.t.ppf(1 - 0.05/2, dof)\n",
    "\n",
    "CI_lower = mean_difference - t_crit * se_diff\n",
    "CI_upper = mean_difference + t_crit * se_diff\n",
    "CI = round(CI_lower,3), round(CI_upper,3)\n",
    "misc = pd.DataFrame({'Mean Difference':[mean_difference], 'SE Difference':[se_diff], '95% CI for Mean Difference': [CI]}).rename(index={0:'Time'})\n",
    "display(HTML(\"\"\"<h5>Independent Samples T-Test</h5>\"\"\"))\n",
    "display(pd.concat([t_test_df, misc], axis=1))\n",
    "\n",
    "CI_male_df =pd.DataFrame({'Male' : [CI_male]})\n",
    "\n",
    "CI_female_df = pd.DataFrame({'Female' : [CI_female]})\n",
    "\n",
    "display(pd.concat([CI_male_df, CI_female_df], axis=1).rename(index={0:'95% CI for Population Mean'}).transpose())"
   ]
  },
  {
   "cell_type": "markdown",
   "id": "3719d2bd-5089-49b4-8ff9-07b5d5da6f69",
   "metadata": {},
   "source": [
    "#### Report Summary\n",
    "The Shapiro-Wilk test revealed that the mean time for both Male and Female groups were normally distributed and the Levene's test for equality of variances suggest that  there was homogeneity of variances. Therefore, an independent samples t-test was conducted to compare mean time spent on cell phones per week by male and female students of Midwestern University with a 95% confidence interval (CI) for the mean difference. \n",
    "\n",
    "The results indicated no significant difference between the Male group (M = 9.82, SD = 2.154) and Female group (M = 9.70, SD = 1.78), t(98) = 0.304, p > 0.05. The mean difference obtained was 0.120, with a 95% confidence interval ranging between -0.663 and 0.903. These results do not provide enough statistical evidence to reject the null hypothesis, hence we can conclude that there is no significant difference between the mean time spent on cell phones by male and female students. These findings may suggest that cell phone usage do not differ significantly based on gender."
   ]
  },
  {
   "cell_type": "markdown",
   "id": "bfa4c833-53df-4493-b54a-2015389e0a16",
   "metadata": {},
   "source": [
    "#### Recommendations\n",
    "\n"
   ]
  },
  {
   "cell_type": "markdown",
   "id": "d99daf9c-fb36-4c9f-b95c-340161024437",
   "metadata": {},
   "source": [
    "Since there were no violations to the tests for normality and equality of variance, the sample size may be considered suitable enough for this test. However, testing with larger samples may be conducted for better generalization of findings to make better inferences about a larger population.\n",
    "\n",
    "The researchers may also consider exploring additional variables and investigating other influences that may affect individuals' time spent on cell phone use especially since there were some outliers in the data. They may want to look into factors such as age, field of study, employment, or socioeconomic background. Investigating such factors may lead to a better understanding of how people spend time on their cell phones."
   ]
  },
  {
   "cell_type": "code",
   "execution_count": null,
   "id": "42764e0a-0f85-49cc-9d6f-0beca319c40c",
   "metadata": {},
   "outputs": [],
   "source": []
  }
 ],
 "metadata": {
  "kernelspec": {
   "display_name": "Python 3 (ipykernel)",
   "language": "python",
   "name": "python3"
  },
  "language_info": {
   "codemirror_mode": {
    "name": "ipython",
    "version": 3
   },
   "file_extension": ".py",
   "mimetype": "text/x-python",
   "name": "python",
   "nbconvert_exporter": "python",
   "pygments_lexer": "ipython3",
   "version": "3.12.0"
  }
 },
 "nbformat": 4,
 "nbformat_minor": 5
}

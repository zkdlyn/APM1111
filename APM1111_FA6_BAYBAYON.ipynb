{
  "metadata": {
    "kernelspec": {
      "name": "python",
      "display_name": "Python (Pyodide)",
      "language": "python"
    },
    "language_info": {
      "codemirror_mode": {
        "name": "python",
        "version": 3
      },
      "file_extension": ".py",
      "mimetype": "text/x-python",
      "name": "python",
      "nbconvert_exporter": "python",
      "pygments_lexer": "ipython3",
      "version": "3.8"
    }
  },
  "nbformat_minor": 4,
  "nbformat": 4,
  "cells": [
    {
      "cell_type": "code",
      "source": "import pandas as pd\nimport numpy as np\nimport statistics as stat\nimport random",
      "metadata": {
        "trusted": true
      },
      "outputs": [],
      "execution_count": 12
    },
    {
      "cell_type": "markdown",
      "source": "1. Table 1 shows a frequency distribution of grades on a final examination in\ncollege algebra. Find the quartiles of the distribution.",
      "metadata": {}
    },
    {
      "cell_type": "code",
      "source": "# grade_class = {'90-100': 9, '80-89': 32, '70-79': 43, '60-69':21, '50-59': 11, '40-49':3, '30-39':1, 'Total': 120}\ngrade_class = ['30-39', '40-49', '50-59','60-69',  '70-79',  '80-89', '90-99']\nfreq = [1,3,11, 21,43,32, 9]\n\nfreq_df = pd.DataFrame({'No. of Students': freq})\ngrade_class_df= pd.DataFrame({'Grade': grade_class})\nfreq_df['Cumulative Freq'] = freq_df['No. of Students'].cumsum()\n\n\nfreq_table = pd.concat([grade_class_df, freq_df], axis=1)\nfreq_table",
      "metadata": {
        "trusted": true
      },
      "outputs": [
        {
          "execution_count": 29,
          "output_type": "execute_result",
          "data": {
            "text/plain": "   Grade  No. of Students  Cumulative Freq\n0  30-39                1                1\n1  40-49                3                4\n2  50-59               11               15\n3  60-69               21               36\n4  70-79               43               79\n5  80-89               32              111\n6  90-99                9              120",
            "text/html": "<div>\n<style scoped>\n    .dataframe tbody tr th:only-of-type {\n        vertical-align: middle;\n    }\n\n    .dataframe tbody tr th {\n        vertical-align: top;\n    }\n\n    .dataframe thead th {\n        text-align: right;\n    }\n</style>\n<table border=\"1\" class=\"dataframe\">\n  <thead>\n    <tr style=\"text-align: right;\">\n      <th></th>\n      <th>Grade</th>\n      <th>No. of Students</th>\n      <th>Cumulative Freq</th>\n    </tr>\n  </thead>\n  <tbody>\n    <tr>\n      <th>0</th>\n      <td>30-39</td>\n      <td>1</td>\n      <td>1</td>\n    </tr>\n    <tr>\n      <th>1</th>\n      <td>40-49</td>\n      <td>3</td>\n      <td>4</td>\n    </tr>\n    <tr>\n      <th>2</th>\n      <td>50-59</td>\n      <td>11</td>\n      <td>15</td>\n    </tr>\n    <tr>\n      <th>3</th>\n      <td>60-69</td>\n      <td>21</td>\n      <td>36</td>\n    </tr>\n    <tr>\n      <th>4</th>\n      <td>70-79</td>\n      <td>43</td>\n      <td>79</td>\n    </tr>\n    <tr>\n      <th>5</th>\n      <td>80-89</td>\n      <td>32</td>\n      <td>111</td>\n    </tr>\n    <tr>\n      <th>6</th>\n      <td>90-99</td>\n      <td>9</td>\n      <td>120</td>\n    </tr>\n  </tbody>\n</table>\n</div>"
          },
          "metadata": {}
        }
      ],
      "execution_count": 29
    },
    {
      "cell_type": "code",
      "source": "C = 10\nN = 120\n\nQ1 = 80 + (10/32)*(30-9)\nQ2 = 70 + (10/43)*(60-41)\nQ3 = 60 + (10/21)*(90-84)\n\n\nQ1 = 60 + (9/21)*(30-15)\nQ2 = 70 + (9/43)*(60-36)\nQ3 = 80 + (9/32)*(90-79)\nquartiles = {'Q1': Q1, 'Q2': Q2, 'Q3': Q3}\nquartiles_df = pd.DataFrame(quartiles.items())\nquartiles_df",
      "metadata": {
        "trusted": true
      },
      "outputs": [
        {
          "execution_count": 30,
          "output_type": "execute_result",
          "data": {
            "text/plain": "    0          1\n0  Q1  66.428571\n1  Q2  75.023256\n2  Q3  83.093750",
            "text/html": "<div>\n<style scoped>\n    .dataframe tbody tr th:only-of-type {\n        vertical-align: middle;\n    }\n\n    .dataframe tbody tr th {\n        vertical-align: top;\n    }\n\n    .dataframe thead th {\n        text-align: right;\n    }\n</style>\n<table border=\"1\" class=\"dataframe\">\n  <thead>\n    <tr style=\"text-align: right;\">\n      <th></th>\n      <th>0</th>\n      <th>1</th>\n    </tr>\n  </thead>\n  <tbody>\n    <tr>\n      <th>0</th>\n      <td>Q1</td>\n      <td>66.428571</td>\n    </tr>\n    <tr>\n      <th>1</th>\n      <td>Q2</td>\n      <td>75.023256</td>\n    </tr>\n    <tr>\n      <th>2</th>\n      <td>Q3</td>\n      <td>83.093750</td>\n    </tr>\n  </tbody>\n</table>\n</div>"
          },
          "metadata": {}
        }
      ],
      "execution_count": 30
    },
    {
      "cell_type": "markdown",
      "source": "(5 points). On a final examination in statistics, the mean grade of a group of 150 students was 78 and the standard deviation was 8.0. In algebra, however, the mean final grade of the group was 73 and the standard deviation was 7.6. In which subject was there the greater (a) absolute dispersion and (b) relative dispersion?",
      "metadata": {}
    },
    {
      "cell_type": "code",
      "source": "n = 150\nstat_mean = 78\nstat_sd = 8.0\nstat_rel_disp = stat_sd/stat_mean\n\nalgeb_mean = 73\nalgeb_sd = 7.6\nalgeb_rel_disp = algeb_sd/algeb_mean\n\ndisplay(round(stat_rel_disp,4))\ndisplay(round(algeb_rel_disp,4))",
      "metadata": {
        "trusted": true
      },
      "outputs": [
        {
          "output_type": "display_data",
          "data": {
            "text/plain": "0.1026"
          },
          "metadata": {}
        },
        {
          "output_type": "display_data",
          "data": {
            "text/plain": "0.1041"
          },
          "metadata": {}
        }
      ],
      "execution_count": 6
    },
    {
      "cell_type": "markdown",
      "source": "a) There is a **greater absolute dispersion in statistics** as the scores have a higher standard deviation of 8. \\\nb) There is a **greater relative dispersion in algebra** as the scores have a higher relative dispersion of approximately 0.1041.",
      "metadata": {}
    },
    {
      "cell_type": "markdown",
      "source": "3. Prove that the mean and standard deviation of a set of standard scores are\nequal to 0 and 1, respectively. Use the following problem to illustrate this: Convert the\nset 6, 2, 8, 7, 5 into standard scores. ",
      "metadata": {}
    },
    {
      "cell_type": "code",
      "source": "scores = [6,2,8,7,5]\nscores_mean = np.mean(scores)\nscores_sd = stat.stdev(scores)  \nz_1 = (6 - scores_mean)/scores_sd \nz_2 = (2 - scores_mean)/scores_sd \nz_3 = (8 - scores_mean)/scores_sd \nz_4 = (7 - scores_mean)/scores_sd \nz_5 = (5 - scores_mean)/scores_sd \n\nstandard_mean = np.mean([z_1, z_2, z_3, z_4, z_5])\nstandard_sd = stat.stdev([z_1, z_2, z_3, z_4, z_5])\n\ndisplay(round(standard_mean,4))\ndisplay(round(standard_sd,4))\n",
      "metadata": {
        "trusted": true
      },
      "outputs": [
        {
          "output_type": "display_data",
          "data": {
            "text/plain": "0.0"
          },
          "metadata": {}
        },
        {
          "output_type": "display_data",
          "data": {
            "text/plain": "1.0"
          },
          "metadata": {}
        }
      ],
      "execution_count": 8
    },
    {
      "cell_type": "markdown",
      "source": "As shown, the **mean of the standard scores is 0** and the **standard deviation of standard scores is 1**. ",
      "metadata": {}
    },
    {
      "cell_type": "markdown",
      "source": "4. Three masses are measured as 20.48, 35.97, and 62.34 g, with standard\ndeviations of 0.21, 0.46, and 0.54 g, respectively. Find the (a) mean and (b) standard\ndeviation of the sum of the masses",
      "metadata": {}
    },
    {
      "cell_type": "code",
      "source": "masses = [20.48, 35.97, 62.34] \nmasses_sd = [0.21, 0.46, 0.54]\n\ndef square(list):\n    return [i ** 2 for i in list]\n\nmasses_var = square(masses_sd)\n\nmass_sum_mean = np.sum(masses)\nmass_sum_sdev = np.sqrt(np.sum(masses_var))\n\n\nprint(f\"Mean: {mass_sum_mean} \\nSDev:{mass_sum_sdev}\")",
      "metadata": {
        "trusted": true
      },
      "outputs": [
        {
          "name": "stdout",
          "text": "Mean: 118.79 \nSDev:0.7397972695272672\n",
          "output_type": "stream"
        }
      ],
      "execution_count": 10
    },
    {
      "cell_type": "markdown",
      "source": "5. Find 𝜇 and 𝜎2 . Give the 25 (with replacement) possible samples of size 2, their means,\nand their probabilities",
      "metadata": {}
    },
    {
      "cell_type": "code",
      "source": "x = [6,9,12,15,18]\npx = [0.1,0.2,0.4,0.2,0.1]\n\ndef square(list):\n    return [i ** 2 for i in list]\nx2 = square(x)\nmean = 0\nn=0\n\n# mean\nfor i in x:\n    mean += x[n]*px[n]\n    n+=1\n# variance\nx2_sum = 0\nn = 0\nfor i in x2:\n    x2_sum += x2[n]*px[n]\n    n+=1\nvar = x2_sum - (mean**2)\n\nprint(f\"Mean: {round(mean,4)}\\nVariance: {round(var,4)}\")",
      "metadata": {
        "trusted": true
      },
      "outputs": [
        {
          "name": "stdout",
          "text": "Mean: 12.0\nVariance: 10.8\n",
          "output_type": "stream"
        }
      ],
      "execution_count": 11
    },
    {
      "cell_type": "code",
      "source": "samples =[]\n\nfor i in x:\n    for j in x:\n        samples.append((i,j))\n\n\nsample_mean = [(s[0] +s[1])/2 for s in samples]\nsamples",
      "metadata": {
        "trusted": true
      },
      "outputs": [
        {
          "execution_count": 31,
          "output_type": "execute_result",
          "data": {
            "text/plain": "[(6, 6),\n (6, 9),\n (6, 12),\n (6, 15),\n (6, 18),\n (9, 6),\n (9, 9),\n (9, 12),\n (9, 15),\n (9, 18),\n (12, 6),\n (12, 9),\n (12, 12),\n (12, 15),\n (12, 18),\n (15, 6),\n (15, 9),\n (15, 12),\n (15, 15),\n (15, 18),\n (18, 6),\n (18, 9),\n (18, 12),\n (18, 15),\n (18, 18)]"
          },
          "metadata": {}
        }
      ],
      "execution_count": 31
    },
    {
      "cell_type": "code",
      "source": "sample_mean",
      "metadata": {
        "trusted": true
      },
      "outputs": [
        {
          "execution_count": 32,
          "output_type": "execute_result",
          "data": {
            "text/plain": "[6.0,\n 7.5,\n 9.0,\n 10.5,\n 12.0,\n 7.5,\n 9.0,\n 10.5,\n 12.0,\n 13.5,\n 9.0,\n 10.5,\n 12.0,\n 13.5,\n 15.0,\n 10.5,\n 12.0,\n 13.5,\n 15.0,\n 16.5,\n 12.0,\n 13.5,\n 15.0,\n 16.5,\n 18.0]"
          },
          "metadata": {}
        }
      ],
      "execution_count": 32
    }
  ]
}
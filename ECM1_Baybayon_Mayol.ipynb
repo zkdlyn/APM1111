{
  "metadata": {
    "kernelspec": {
      "name": "python",
      "display_name": "Python (Pyodide)",
      "language": "python"
    },
    "language_info": {
      "codemirror_mode": {
        "name": "python",
        "version": 3
      },
      "file_extension": ".py",
      "mimetype": "text/x-python",
      "name": "python",
      "nbconvert_exporter": "python",
      "pygments_lexer": "ipython3",
      "version": "3.8"
    }
  },
  "nbformat_minor": 4,
  "nbformat": 4,
  "cells": [
    {
      "cell_type": "code",
      "source": "import pandas as pd\nimport numpy as np",
      "metadata": {
        "trusted": true
      },
      "outputs": [],
      "execution_count": 106
    },
    {
      "cell_type": "code",
      "source": "import random\n\npopulation = []\nelements = ['Marcos1', 'Marcos2', 'Marcos3', 'Marcos4', 'Robredo1', 'Robredo2']\n\n\nfor x in range(15):\n    test = random.sample(elements, 4)\n    population.append(test)\n",
      "metadata": {
        "trusted": true
      },
      "outputs": [],
      "execution_count": 107
    },
    {
      "cell_type": "code",
      "source": "proportion_robredo = []\nproportion_marcos = []\n\n\nfor sample in population:\n    robredo_cnt = 0\n    marcos_cnt = 0\n    for element in sample:\n        if 'Robredo1' in sample:\n            robredo_cnt +=1\n        if 'Robredo2' in sample:\n            robredo_cnt +=1\n        if 'Marcos1' in sample:\n            marcos_cnt +=1\n        if 'Marcos2' in sample:\n            marcos_cnt +=1\n        if 'Marcos3' in sample:\n            marcos_cnt +=1\n        if 'Marcos4' in sample:\n            marcos_cnt +=1\n    proportion_robredo.append((robredo_cnt/4)/4)\n    proportion_marcos.append((marcos_cnt/4)/4)\n    \n    ",
      "metadata": {
        "trusted": true
      },
      "outputs": [],
      "execution_count": 108
    },
    {
      "cell_type": "code",
      "source": "population = pd.DataFrame(population)\npopulation = population.transpose()\nproportion_robredo = pd.DataFrame(proportion_robredo)\nproportion_robredo = proportion_robredo.transpose()\nproportion_robredo = proportion_robredo.rename(index={0:'Robredo'})\nproportion_marcos = pd.DataFrame(proportion_marcos)\nproportion_marcos = proportion_marcos.transpose()\nproportion_marcos = proportion_marcos.rename(index={0:'Marcos'})\n\nsummary = pd.concat([population, proportion_robredo, proportion_marcos])\n\nsummary",
      "metadata": {
        "trusted": true
      },
      "outputs": [
        {
          "execution_count": 109,
          "output_type": "execute_result",
          "data": {
            "text/plain": "               0         1         2         3         4         5         6   \\\n0        Robredo1   Marcos3   Marcos1   Marcos2  Robredo1  Robredo1   Marcos2   \n1         Marcos1  Robredo2   Marcos4   Marcos1   Marcos1   Marcos1   Marcos1   \n2        Robredo2  Robredo1   Marcos2  Robredo2  Robredo2   Marcos4   Marcos3   \n3         Marcos4   Marcos2  Robredo2   Marcos4   Marcos4   Marcos2  Robredo1   \nRobredo       0.5       0.5      0.25      0.25       0.5      0.25      0.25   \nMarcos        0.5       0.5      0.75      0.75       0.5      0.75      0.75   \n\n               7         8         9        10        11        12        13  \\\n0        Robredo2   Marcos4  Robredo1  Marcos4  Robredo2  Robredo1  Robredo2   \n1         Marcos3   Marcos3  Robredo2  Marcos2   Marcos1   Marcos3   Marcos1   \n2         Marcos1   Marcos1   Marcos2  Marcos1  Robredo1   Marcos2   Marcos3   \n3         Marcos4  Robredo2   Marcos1  Marcos3   Marcos3   Marcos4  Robredo1   \nRobredo      0.25      0.25       0.5      0.0       0.5      0.25       0.5   \nMarcos       0.75      0.75       0.5      1.0       0.5      0.75       0.5   \n\n               14  \n0         Marcos3  \n1         Marcos2  \n2         Marcos1  \n3        Robredo2  \nRobredo      0.25  \nMarcos       0.75  ",
            "text/html": "<div>\n<style scoped>\n    .dataframe tbody tr th:only-of-type {\n        vertical-align: middle;\n    }\n\n    .dataframe tbody tr th {\n        vertical-align: top;\n    }\n\n    .dataframe thead th {\n        text-align: right;\n    }\n</style>\n<table border=\"1\" class=\"dataframe\">\n  <thead>\n    <tr style=\"text-align: right;\">\n      <th></th>\n      <th>0</th>\n      <th>1</th>\n      <th>2</th>\n      <th>3</th>\n      <th>4</th>\n      <th>5</th>\n      <th>6</th>\n      <th>7</th>\n      <th>8</th>\n      <th>9</th>\n      <th>10</th>\n      <th>11</th>\n      <th>12</th>\n      <th>13</th>\n      <th>14</th>\n    </tr>\n  </thead>\n  <tbody>\n    <tr>\n      <th>0</th>\n      <td>Robredo1</td>\n      <td>Marcos3</td>\n      <td>Marcos1</td>\n      <td>Marcos2</td>\n      <td>Robredo1</td>\n      <td>Robredo1</td>\n      <td>Marcos2</td>\n      <td>Robredo2</td>\n      <td>Marcos4</td>\n      <td>Robredo1</td>\n      <td>Marcos4</td>\n      <td>Robredo2</td>\n      <td>Robredo1</td>\n      <td>Robredo2</td>\n      <td>Marcos3</td>\n    </tr>\n    <tr>\n      <th>1</th>\n      <td>Marcos1</td>\n      <td>Robredo2</td>\n      <td>Marcos4</td>\n      <td>Marcos1</td>\n      <td>Marcos1</td>\n      <td>Marcos1</td>\n      <td>Marcos1</td>\n      <td>Marcos3</td>\n      <td>Marcos3</td>\n      <td>Robredo2</td>\n      <td>Marcos2</td>\n      <td>Marcos1</td>\n      <td>Marcos3</td>\n      <td>Marcos1</td>\n      <td>Marcos2</td>\n    </tr>\n    <tr>\n      <th>2</th>\n      <td>Robredo2</td>\n      <td>Robredo1</td>\n      <td>Marcos2</td>\n      <td>Robredo2</td>\n      <td>Robredo2</td>\n      <td>Marcos4</td>\n      <td>Marcos3</td>\n      <td>Marcos1</td>\n      <td>Marcos1</td>\n      <td>Marcos2</td>\n      <td>Marcos1</td>\n      <td>Robredo1</td>\n      <td>Marcos2</td>\n      <td>Marcos3</td>\n      <td>Marcos1</td>\n    </tr>\n    <tr>\n      <th>3</th>\n      <td>Marcos4</td>\n      <td>Marcos2</td>\n      <td>Robredo2</td>\n      <td>Marcos4</td>\n      <td>Marcos4</td>\n      <td>Marcos2</td>\n      <td>Robredo1</td>\n      <td>Marcos4</td>\n      <td>Robredo2</td>\n      <td>Marcos1</td>\n      <td>Marcos3</td>\n      <td>Marcos3</td>\n      <td>Marcos4</td>\n      <td>Robredo1</td>\n      <td>Robredo2</td>\n    </tr>\n    <tr>\n      <th>Robredo</th>\n      <td>0.5</td>\n      <td>0.5</td>\n      <td>0.25</td>\n      <td>0.25</td>\n      <td>0.5</td>\n      <td>0.25</td>\n      <td>0.25</td>\n      <td>0.25</td>\n      <td>0.25</td>\n      <td>0.5</td>\n      <td>0.0</td>\n      <td>0.5</td>\n      <td>0.25</td>\n      <td>0.5</td>\n      <td>0.25</td>\n    </tr>\n    <tr>\n      <th>Marcos</th>\n      <td>0.5</td>\n      <td>0.5</td>\n      <td>0.75</td>\n      <td>0.75</td>\n      <td>0.5</td>\n      <td>0.75</td>\n      <td>0.75</td>\n      <td>0.75</td>\n      <td>0.75</td>\n      <td>0.5</td>\n      <td>1.0</td>\n      <td>0.5</td>\n      <td>0.75</td>\n      <td>0.5</td>\n      <td>0.75</td>\n    </tr>\n  </tbody>\n</table>\n</div>"
          },
          "metadata": {}
        }
      ],
      "execution_count": 109
    },
    {
      "cell_type": "code",
      "source": "avg_rob = np.mean(proportion_robredo).round(2)\navg_mar = np.mean(proportion_marcos).round(2)\n\navg_list = [avg_rob,avg_mar]\navg_df = pd.DataFrame(avg_list)\navg_df = avg_df.rename(index ={ 0:'Robredo', 1: 'Marcos'})\navg_df = avg_df.rename(columns ={ 0:'Average Proportion'})\n\navg_df",
      "metadata": {
        "trusted": true
      },
      "outputs": [
        {
          "execution_count": 110,
          "output_type": "execute_result",
          "data": {
            "text/plain": "         Average Proportion\nRobredo                0.33\nMarcos                 0.67",
            "text/html": "<div>\n<style scoped>\n    .dataframe tbody tr th:only-of-type {\n        vertical-align: middle;\n    }\n\n    .dataframe tbody tr th {\n        vertical-align: top;\n    }\n\n    .dataframe thead th {\n        text-align: right;\n    }\n</style>\n<table border=\"1\" class=\"dataframe\">\n  <thead>\n    <tr style=\"text-align: right;\">\n      <th></th>\n      <th>Average Proportion</th>\n    </tr>\n  </thead>\n  <tbody>\n    <tr>\n      <th>Robredo</th>\n      <td>0.33</td>\n    </tr>\n    <tr>\n      <th>Marcos</th>\n      <td>0.67</td>\n    </tr>\n  </tbody>\n</table>\n</div>"
          },
          "metadata": {}
        }
      ],
      "execution_count": 110
    }
  ]
}
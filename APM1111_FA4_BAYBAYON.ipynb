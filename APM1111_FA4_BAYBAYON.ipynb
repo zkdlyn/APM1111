{
 "cells": [
  {
   "cell_type": "code",
   "execution_count": 8,
   "metadata": {},
   "outputs": [],
   "source": [
    "import numpy as np\n",
    "from scipy.stats import moment\n",
    "import pandas as pd\n",
    "pd.options.display.float_format = '{:.4f}'.format"
   ]
  },
  {
   "cell_type": "code",
   "execution_count": 9,
   "metadata": {},
   "outputs": [],
   "source": [
    "# female heights\n",
    "normal = [67,70,63,65,68,60,70,64,69,61,66,65,71,62,66,68,64,67,62,66,65,63,66,65,63,69,62,67,59,66,65,63,65,60,67,64,68,61,69,65,62,67,70,64,63,68,64,65,61,66]\n",
    "# age at marriage for females\n",
    "skewed_r = [31,40,43,24,30,29,30,24,38,27,26,35,29,33,55,75,46,38,26,34,29,85,57,29,34,40,34,41,36,35,40,26,28,34,26,19,66,23,63,28,30,26,33,31,24,25,35,22,34,28]\n",
    "# obituary data that give the age at death for females\n",
    "skewed_l = [102,87,55,104,70,75,95,80,73,66,79,93,60,90,73,84,89,73,85,98,72,79,92,35,76,71,93,90,76,71,97,63,10,58,70,82,85,72,25,93,83,44,58,65,10,77,92,81,82,77]\n",
    "# amount of cola put into a 12 ounce container by a soft drinks machine\n",
    "uniform = [12.1,11.6,12.1,11.6,12.4,12.0,12.1,11.6,12.1,11.6,12.2,11.7,12.2,12.3,12.2,11.7,11.9,11.7,12.2,11.7,12.3,11.8,12.3,12.5,11.7,11.8,12.3,11.8,12.3,11.8,12.4,11.9,12.4,11.9,12.1,11.9,12.4,12.2,12.4,11.9,12.5,12.0,11.8,11.9,12.5,12.0,12.5,12.0,12.5,12.0]"
   ]
  },
  {
   "cell_type": "markdown",
   "metadata": {},
   "source": [
    "1. Find the (a) first, (b) second, (c) third, and (d ) fourth moments for each of the sets of data (normal, skewed-right, skewed-left, uniform)."
   ]
  },
  {
   "cell_type": "code",
   "execution_count": 19,
   "metadata": {},
   "outputs": [
    {
     "data": {
      "text/html": [
       "<div>\n",
       "<style scoped>\n",
       "    .dataframe tbody tr th:only-of-type {\n",
       "        vertical-align: middle;\n",
       "    }\n",
       "\n",
       "    .dataframe tbody tr th {\n",
       "        vertical-align: top;\n",
       "    }\n",
       "\n",
       "    .dataframe thead th {\n",
       "        text-align: right;\n",
       "    }\n",
       "</style>\n",
       "<table border=\"1\" class=\"dataframe\">\n",
       "  <thead>\n",
       "    <tr style=\"text-align: right;\">\n",
       "      <th></th>\n",
       "      <th>Normal</th>\n",
       "      <th>Skewed-Right</th>\n",
       "      <th>Skewed-Left</th>\n",
       "      <th>Uniform</th>\n",
       "    </tr>\n",
       "  </thead>\n",
       "  <tbody>\n",
       "    <tr>\n",
       "      <th>1st Moment</th>\n",
       "      <td>65.1200</td>\n",
       "      <td>35.4800</td>\n",
       "      <td>74.2000</td>\n",
       "      <td>12.0560</td>\n",
       "    </tr>\n",
       "    <tr>\n",
       "      <th>2nd Moment</th>\n",
       "      <td>4248.9200</td>\n",
       "      <td>1437.7200</td>\n",
       "      <td>5925.4000</td>\n",
       "      <td>145.4260</td>\n",
       "    </tr>\n",
       "    <tr>\n",
       "      <th>3rd Moment</th>\n",
       "      <td>277770.9200</td>\n",
       "      <td>68292.4400</td>\n",
       "      <td>489458.8000</td>\n",
       "      <td>1755.1578</td>\n",
       "    </tr>\n",
       "    <tr>\n",
       "      <th>4th Moment</th>\n",
       "      <td>18194173.6400</td>\n",
       "      <td>3797594.0400</td>\n",
       "      <td>41396161.4800</td>\n",
       "      <td>21194.5933</td>\n",
       "    </tr>\n",
       "  </tbody>\n",
       "</table>\n",
       "</div>"
      ],
      "text/plain": [
       "                  Normal  Skewed-Right   Skewed-Left    Uniform\n",
       "1st Moment       65.1200       35.4800       74.2000    12.0560\n",
       "2nd Moment     4248.9200     1437.7200     5925.4000   145.4260\n",
       "3rd Moment   277770.9200    68292.4400   489458.8000  1755.1578\n",
       "4th Moment 18194173.6400  3797594.0400 41396161.4800 21194.5933"
      ]
     },
     "execution_count": 19,
     "metadata": {},
     "output_type": "execute_result"
    }
   ],
   "source": [
    "def moments(data):\n",
    "    n = len(data)\n",
    "    m1 = np.sum(data) / n\n",
    "    m2 = np.sum(np.power(data,2)) / n\n",
    "    m3 = np.sum(np.power(data,3)) / n\n",
    "    m4 = np.sum(np.power(data,4)) / n\n",
    "    \n",
    "    return m1,m2,m3,m4\n",
    "\n",
    "normal_moments = moments(normal)\n",
    "skew_right_moments = moments(skewed_r)\n",
    "skew_left_moments = moments(skewed_l)\n",
    "uniform_moments = moments(uniform)\n",
    "\n",
    "normal_moments_df = pd.DataFrame({'Normal': normal_moments})\n",
    "skew_right_moments_df = pd.DataFrame({'Skewed-Right': skew_right_moments })\n",
    "skew_left_moments_df = pd.DataFrame({'Skewed-Left': skew_left_moments })\n",
    "uniform_moments_df = pd.DataFrame({'Uniform': uniform_moments })\n",
    "moments_df = (pd.concat([normal_moments_df,skew_right_moments_df,skew_left_moments_df,uniform_moments_df],axis=1))\n",
    "\n",
    "moments_df = moments_df.rename(index={0:'1st Moment', 1:'2nd Moment', 2:'3rd Moment', 3:'4th Moment'})\n",
    "moments_df"
   ]
  },
  {
   "cell_type": "markdown",
   "metadata": {},
   "source": [
    "2. Find the (a) first, (b) second, (c) third, and (d ) fourth moments about the mean for each of the sets of data (normal, skewed-right, skewed-left, uniform)."
   ]
  },
  {
   "cell_type": "code",
   "execution_count": 11,
   "metadata": {},
   "outputs": [
    {
     "data": {
      "text/html": [
       "<div>\n",
       "<style scoped>\n",
       "    .dataframe tbody tr th:only-of-type {\n",
       "        vertical-align: middle;\n",
       "    }\n",
       "\n",
       "    .dataframe tbody tr th {\n",
       "        vertical-align: top;\n",
       "    }\n",
       "\n",
       "    .dataframe thead th {\n",
       "        text-align: right;\n",
       "    }\n",
       "</style>\n",
       "<table border=\"1\" class=\"dataframe\">\n",
       "  <thead>\n",
       "    <tr style=\"text-align: right;\">\n",
       "      <th></th>\n",
       "      <th>Normal</th>\n",
       "      <th>Skewed-Right</th>\n",
       "      <th>Skewed-Left</th>\n",
       "      <th>Uniform</th>\n",
       "    </tr>\n",
       "  </thead>\n",
       "  <tbody>\n",
       "    <tr>\n",
       "      <th>1st Moment</th>\n",
       "      <td>-0.0000</td>\n",
       "      <td>0.0000</td>\n",
       "      <td>-0.0000</td>\n",
       "      <td>0.0000</td>\n",
       "    </tr>\n",
       "    <tr>\n",
       "      <th>2nd Moment</th>\n",
       "      <td>8.3056</td>\n",
       "      <td>178.8896</td>\n",
       "      <td>419.7600</td>\n",
       "      <td>0.0789</td>\n",
       "    </tr>\n",
       "    <tr>\n",
       "      <th>3rd Moment</th>\n",
       "      <td>-0.4717</td>\n",
       "      <td>4588.1284</td>\n",
       "      <td>-12498.2640</td>\n",
       "      <td>0.0003</td>\n",
       "    </tr>\n",
       "    <tr>\n",
       "      <th>4th Moment</th>\n",
       "      <td>160.9486</td>\n",
       "      <td>210642.8834</td>\n",
       "      <td>927289.7472</td>\n",
       "      <td>0.0113</td>\n",
       "    </tr>\n",
       "  </tbody>\n",
       "</table>\n",
       "</div>"
      ],
      "text/plain": [
       "             Normal  Skewed-Right  Skewed-Left  Uniform\n",
       "1st Moment  -0.0000        0.0000      -0.0000   0.0000\n",
       "2nd Moment   8.3056      178.8896     419.7600   0.0789\n",
       "3rd Moment  -0.4717     4588.1284  -12498.2640   0.0003\n",
       "4th Moment 160.9486   210642.8834  927289.7472   0.0113"
      ]
     },
     "execution_count": 11,
     "metadata": {},
     "output_type": "execute_result"
    }
   ],
   "source": [
    "def moments_mean(data):\n",
    "    n = len(data)\n",
    "    mean = np.mean(data)\n",
    "    m1 = np.sum((data - mean) ** 1) / n\n",
    "    m2 = np.sum((data - mean) ** 2) / n\n",
    "    m3 = np.sum((data - mean) ** 3) / n\n",
    "    m4 = np.sum((data - mean) ** 4) / n\n",
    "    \n",
    "    return m1,m2,m3,m4\n",
    "\n",
    "normal_moments_mean = moments_mean(normal)\n",
    "skew_right_moments_mean = moments_mean(skewed_r)\n",
    "skew_left_moments_mean = moments_mean(skewed_l)\n",
    "uniform_moments_mean = moments_mean(uniform)\n",
    "\n",
    "normal_moments_mean_df = pd.DataFrame({'Normal':normal_moments_mean})\n",
    "skew_right_moments_mean_df = pd.DataFrame({'Skewed-Right': skew_right_moments_mean})\n",
    "skew_left_moments_mean_df = pd.DataFrame({'Skewed-Left': skew_left_moments_mean})\n",
    "uniform_moments_mean_df = pd.DataFrame({'Uniform': uniform_moments_mean})\n",
    "\n",
    "moments_mean_df = pd.concat([normal_moments_mean_df, skew_right_moments_mean_df, skew_left_moments_mean_df, uniform_moments_mean_df], axis=1)\n",
    "moments_mean_df = moments_mean_df.rename(index={0:'1st Moment', 1:'2nd Moment', 2:'3rd Moment', 3:'4th Moment'})\n",
    "moments_mean_df"
   ]
  },
  {
   "cell_type": "markdown",
   "metadata": {},
   "source": [
    "3. Find the (a) first, (b) second, (c) third, and (d ) fourth moments about the number 75 for the set of female height measurements."
   ]
  },
  {
   "cell_type": "code",
   "execution_count": 12,
   "metadata": {},
   "outputs": [
    {
     "data": {
      "text/html": [
       "<div>\n",
       "<style scoped>\n",
       "    .dataframe tbody tr th:only-of-type {\n",
       "        vertical-align: middle;\n",
       "    }\n",
       "\n",
       "    .dataframe tbody tr th {\n",
       "        vertical-align: top;\n",
       "    }\n",
       "\n",
       "    .dataframe thead th {\n",
       "        text-align: right;\n",
       "    }\n",
       "</style>\n",
       "<table border=\"1\" class=\"dataframe\">\n",
       "  <thead>\n",
       "    <tr style=\"text-align: right;\">\n",
       "      <th></th>\n",
       "      <th>Female Height Measurements</th>\n",
       "    </tr>\n",
       "  </thead>\n",
       "  <tbody>\n",
       "    <tr>\n",
       "      <th>1st Moment</th>\n",
       "      <td>-9.8800</td>\n",
       "    </tr>\n",
       "    <tr>\n",
       "      <th>2nd Moment</th>\n",
       "      <td>105.9200</td>\n",
       "    </tr>\n",
       "    <tr>\n",
       "      <th>3rd Moment</th>\n",
       "      <td>-1211.0800</td>\n",
       "    </tr>\n",
       "    <tr>\n",
       "      <th>4th Moment</th>\n",
       "      <td>14572.6400</td>\n",
       "    </tr>\n",
       "  </tbody>\n",
       "</table>\n",
       "</div>"
      ],
      "text/plain": [
       "            Female Height Measurements\n",
       "1st Moment                     -9.8800\n",
       "2nd Moment                    105.9200\n",
       "3rd Moment                  -1211.0800\n",
       "4th Moment                  14572.6400"
      ]
     },
     "execution_count": 12,
     "metadata": {},
     "output_type": "execute_result"
    }
   ],
   "source": [
    "def moments_75(data):\n",
    "    n = len(data)\n",
    "    m1 = np.sum(np.power([x - 75 for x in data],1)) / n\n",
    "    m2 = np.sum(np.power([x - 75 for x in data],2)) / n\n",
    "    m3 = np.sum(np.power([x - 75 for x in data],3)) / n\n",
    "    m4 = np.sum(np.power([x - 75 for x in data],4)) / n\n",
    "    \n",
    "    return m1,m2,m3,m4\n",
    "\n",
    "normal_moments_75 = moments_75(normal)\n",
    "normal_moments_75_df = pd.DataFrame({'Female Height Measurements':normal_moments_75})\n",
    "\n",
    "normal_moments_75_df.rename(index={0:'1st Moment', 1:'2nd Moment', 2:'3rd Moment', 3:'4th Moment'})"
   ]
  },
  {
   "cell_type": "markdown",
   "metadata": {},
   "source": [
    "4. Using the results of items 2 and 3 for the set of female height measurements, verify the relations between the moments \n"
   ]
  },
  {
   "cell_type": "code",
   "execution_count": 13,
   "metadata": {},
   "outputs": [],
   "source": [
    "m1 = normal_moments_mean[0]\n",
    "m2 = normal_moments_mean[1]\n",
    "m3 = normal_moments_mean[2]\n",
    "m4 = normal_moments_mean[3]\n",
    "\n",
    "m1_75 = normal_moments_75[0]\n",
    "m2_75 = normal_moments_75[1]\n",
    "m3_75 = normal_moments_75[2]\n",
    "m4_75 = normal_moments_75[3]\n"
   ]
  },
  {
   "cell_type": "markdown",
   "metadata": {},
   "source": [
    "a) $m_2 = m_2' - m_1'^2$ \n"
   ]
  },
  {
   "cell_type": "code",
   "execution_count": 14,
   "metadata": {},
   "outputs": [
    {
     "name": "stdout",
     "output_type": "stream",
     "text": [
      "2nd Moment: 8.3056 \n",
      "2nd Moment (relation with moments about 75): 8.3056\n"
     ]
    }
   ],
   "source": [
    "m2_verify = m2_75 - m1_75**2\n",
    "\n",
    "print(f'2nd Moment: {round(m2,4)} \\n2nd Moment (relation with moments about 75): {round(m2_verify,4)}')\n"
   ]
  },
  {
   "cell_type": "markdown",
   "metadata": {},
   "source": [
    "b) $m_3 = m_3' - 3m_1'm_2' + 2m_1'^3 $ \n"
   ]
  },
  {
   "cell_type": "code",
   "execution_count": 16,
   "metadata": {},
   "outputs": [
    {
     "name": "stdout",
     "output_type": "stream",
     "text": [
      "3rd Moment: -0.4717 \n",
      "3rd Moment (relation with moments about 75): -0.4717\n"
     ]
    }
   ],
   "source": [
    "m3_verify = m3_75 - 3*(m1_75*m2_75) + 2*(m1_75**3)\n",
    "\n",
    "print(f'3rd Moment: {round(m3,4)} \\n3rd Moment (relation with moments about 75): {round(m3_verify,4)}')\n",
    "\n"
   ]
  },
  {
   "cell_type": "markdown",
   "metadata": {},
   "source": [
    "c) $m_4 = m_4' - 4m_1'm_3' + 6m_1'^2m_2' - 3m_1'^4 $"
   ]
  },
  {
   "cell_type": "code",
   "execution_count": 18,
   "metadata": {},
   "outputs": [
    {
     "name": "stdout",
     "output_type": "stream",
     "text": [
      "4th Moment: 160.9486 \n",
      "4th Moment (relation with moments about 75): 160.9486\n"
     ]
    }
   ],
   "source": [
    "m4_verify = m4_75 - 4*(m1_75*m3_75) + 6*(m1_75**2)*(m2_75) - 3*(m1_75**4)\n",
    "\n",
    "print(f'4th Moment: {round(m4,4)} \\n4th Moment (relation with moments about 75): {round(m4_verify,4)}')\n",
    "\n"
   ]
  }
 ],
 "metadata": {
  "kernelspec": {
   "display_name": "Python 3 (ipykernel)",
   "language": "python",
   "name": "python3"
  },
  "language_info": {
   "codemirror_mode": {
    "name": "ipython",
    "version": 3
   },
   "file_extension": ".py",
   "mimetype": "text/x-python",
   "name": "python",
   "nbconvert_exporter": "python",
   "pygments_lexer": "ipython3",
   "version": "3.11.1"
  }
 },
 "nbformat": 4,
 "nbformat_minor": 4
}

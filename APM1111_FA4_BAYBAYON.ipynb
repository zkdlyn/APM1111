{
  "metadata": {
    "kernelspec": {
      "name": "python",
      "display_name": "Python (Pyodide)",
      "language": "python"
    },
    "language_info": {
      "codemirror_mode": {
        "name": "python",
        "version": 3
      },
      "file_extension": ".py",
      "mimetype": "text/x-python",
      "name": "python",
      "nbconvert_exporter": "python",
      "pygments_lexer": "ipython3",
      "version": "3.8"
    }
  },
  "nbformat_minor": 4,
  "nbformat": 4,
  "cells": [
    {
      "cell_type": "code",
      "source": "\nimport numpy as np\nfrom scipy.stats import moment\nimport pandas as pd\npd.options.display.float_format = '{:.4f}'.format",
      "metadata": {
        "trusted": true
      },
      "outputs": [],
      "execution_count": 24
    },
    {
      "cell_type": "code",
      "source": "# female heights\nnormal = [67,70,63,65,68,60,70,64,69,61,66,65,71,62,66,68,64,67,62,66,65,63,66,65,63,69,62,67,59,66,65,63,65,60,67,64,68,61,69,65,62,67,70,64,63,68,64,65,61,66]\n# age at marriage for females\nskewed_r = [31,40,43,24,30,29,30,24,38,27,26,35,29,33,55,75,46,38,26,34,29,85,57,29,34,40,34,41,36,35,40,26,28,34,26,19,66,23,63,28,30,26,33,31,24,25,35,22,34,28]\n# obituary data that give the age at death for females\nskewed_l = [102,87,55,104,70,75,95,80,73,66,79,93,60,90,73,84,89,73,85,98,72,79,92,35,76,71,93,90,76,71,97,63,10,58,70,82,85,72,25,93,83,44,58,65,10,77,92,81,82,77]\n# amount of cola put into a 12 ounce container by a soft drinks machine\nuniform = [12.1,11.6,12.1,11.6,12.4,12.0,12.1,11.6,12.1,11.6,12.2,11.7,12.2,12.3,12.2,11.7,11.9,11.7,12.2,11.7,12.3,11.8,12.3,12.5,11.7,11.8,12.3,11.8,12.3,11.8,12.4,11.9,12.4,11.9,12.1,11.9,12.4,12.2,12.4,11.9,12.5,12.0,11.8,11.9,12.5,12.0,12.5,12.0,12.5,12.0]",
      "metadata": {
        "trusted": true
      },
      "outputs": [],
      "execution_count": 25
    },
    {
      "cell_type": "markdown",
      "source": "1. Find the (a) first, (b) second, (c) third, and (d ) fourth moments for each of the sets of data (normal, skewed-right, skewed-left, uniform).",
      "metadata": {}
    },
    {
      "cell_type": "code",
      "source": "def raw_moments(data):\n    n = len(data)\n    m1 = np.sum(data) / n\n    m2 = np.sum(np.power(data,2)) / n\n    m3 = np.sum(np.power(data,3)) / n\n    m4 = np.sum(np.power(data,4)) / n\n    \n    return m1,m2,m3,m4\n\nnormal_moments = raw_moments(normal)\nskew_right_moments = raw_moments(skewed_r)\nskew_left_moments = raw_moments(skewed_l)\nuniform_moments = raw_moments(uniform)\n\nnormal_moments_df = pd.DataFrame({'Normal': normal_moments})\nskew_right_moments_df = pd.DataFrame({'Skewed-Right': skew_right_moments })\nskew_left_moments_df = pd.DataFrame({'Skewed-Left': skew_left_moments })\nuniform_moments_df = pd.DataFrame({'Uniform': uniform_moments })\nmoments_df = (pd.concat([normal_moments_df,skew_right_moments_df,skew_left_moments_df,uniform_moments_df],axis=1))\n\nmoments_df = moments_df.rename(index={0:'1st Moment', 1:'2nd Moment', 2:'3rd Moment', 3:'4th Moment'})\nmoments_df",
      "metadata": {
        "trusted": true
      },
      "outputs": [
        {
          "execution_count": 26,
          "output_type": "execute_result",
          "data": {
            "text/plain": "                  Normal  Skewed-Right   Skewed-Left    Uniform\n1st Moment       65.1200       35.4800       74.2000    12.0560\n2nd Moment     4248.9200     1437.7200     5925.4000   145.4260\n3rd Moment   277770.9200    68292.4400   489458.8000  1755.1578\n4th Moment 18194173.6400  3797594.0400 41396161.4800 21194.5933",
            "text/html": "<div>\n<style scoped>\n    .dataframe tbody tr th:only-of-type {\n        vertical-align: middle;\n    }\n\n    .dataframe tbody tr th {\n        vertical-align: top;\n    }\n\n    .dataframe thead th {\n        text-align: right;\n    }\n</style>\n<table border=\"1\" class=\"dataframe\">\n  <thead>\n    <tr style=\"text-align: right;\">\n      <th></th>\n      <th>Normal</th>\n      <th>Skewed-Right</th>\n      <th>Skewed-Left</th>\n      <th>Uniform</th>\n    </tr>\n  </thead>\n  <tbody>\n    <tr>\n      <th>1st Moment</th>\n      <td>65.1200</td>\n      <td>35.4800</td>\n      <td>74.2000</td>\n      <td>12.0560</td>\n    </tr>\n    <tr>\n      <th>2nd Moment</th>\n      <td>4248.9200</td>\n      <td>1437.7200</td>\n      <td>5925.4000</td>\n      <td>145.4260</td>\n    </tr>\n    <tr>\n      <th>3rd Moment</th>\n      <td>277770.9200</td>\n      <td>68292.4400</td>\n      <td>489458.8000</td>\n      <td>1755.1578</td>\n    </tr>\n    <tr>\n      <th>4th Moment</th>\n      <td>18194173.6400</td>\n      <td>3797594.0400</td>\n      <td>41396161.4800</td>\n      <td>21194.5933</td>\n    </tr>\n  </tbody>\n</table>\n</div>"
          },
          "metadata": {}
        }
      ],
      "execution_count": 26
    },
    {
      "cell_type": "markdown",
      "source": "2. Find the (a) first, (b) second, (c) third, and (d ) fourth moments about the mean for each of the sets of data (normal, skewed-right, skewed-left, uniform).",
      "metadata": {}
    },
    {
      "cell_type": "code",
      "source": "def moments_mean(data):\n    n = len(data)\n    mean = np.mean(data)\n    m1 = np.sum((data - mean) ** 1) / n\n    m2 = np.sum((data - mean) ** 2) / n\n    m3 = np.sum((data - mean) ** 3) / n\n    m4 = np.sum((data - mean) ** 4) / n\n    \n    return m1,m2,m3,m4\n\nnormal_moments_mean = moments_mean(normal)\nskew_right_moments_mean = moments_mean(skewed_r)\nskew_left_moments_mean = moments_mean(skewed_l)\nuniform_moments_mean = moments_mean(uniform)\n\nnormal_moments_mean_df = pd.DataFrame({'Normal':normal_moments_mean})\nskew_right_moments_mean_df = pd.DataFrame({'Skewed-Right': skew_right_moments_mean})\nskew_left_moments_mean_df = pd.DataFrame({'Skewed-Left': skew_left_moments_mean})\nuniform_moments_mean_df = pd.DataFrame({'Uniform': uniform_moments_mean})\n\nmoments_mean_df = pd.concat([normal_moments_mean_df, skew_right_moments_mean_df, skew_left_moments_mean_df, uniform_moments_mean_df], axis=1)\nmoments_mean_df = moments_mean_df.rename(index={0:'1st Moment', 1:'2nd Moment', 2:'3rd Moment', 3:'4th Moment'})\nmoments_mean_df",
      "metadata": {
        "trusted": true
      },
      "outputs": [
        {
          "execution_count": 37,
          "output_type": "execute_result",
          "data": {
            "text/plain": "             Normal  Skewed-Right  Skewed-Left  Uniform\n1st Moment  -0.0000        0.0000      -0.0000   0.0000\n2nd Moment   8.3056      178.8896     419.7600   0.0789\n3rd Moment  -0.4717     4588.1284  -12498.2640   0.0003\n4th Moment 160.9486   210642.8834  927289.7472   0.0113",
            "text/html": "<div>\n<style scoped>\n    .dataframe tbody tr th:only-of-type {\n        vertical-align: middle;\n    }\n\n    .dataframe tbody tr th {\n        vertical-align: top;\n    }\n\n    .dataframe thead th {\n        text-align: right;\n    }\n</style>\n<table border=\"1\" class=\"dataframe\">\n  <thead>\n    <tr style=\"text-align: right;\">\n      <th></th>\n      <th>Normal</th>\n      <th>Skewed-Right</th>\n      <th>Skewed-Left</th>\n      <th>Uniform</th>\n    </tr>\n  </thead>\n  <tbody>\n    <tr>\n      <th>1st Moment</th>\n      <td>-0.0000</td>\n      <td>0.0000</td>\n      <td>-0.0000</td>\n      <td>0.0000</td>\n    </tr>\n    <tr>\n      <th>2nd Moment</th>\n      <td>8.3056</td>\n      <td>178.8896</td>\n      <td>419.7600</td>\n      <td>0.0789</td>\n    </tr>\n    <tr>\n      <th>3rd Moment</th>\n      <td>-0.4717</td>\n      <td>4588.1284</td>\n      <td>-12498.2640</td>\n      <td>0.0003</td>\n    </tr>\n    <tr>\n      <th>4th Moment</th>\n      <td>160.9486</td>\n      <td>210642.8834</td>\n      <td>927289.7472</td>\n      <td>0.0113</td>\n    </tr>\n  </tbody>\n</table>\n</div>"
          },
          "metadata": {}
        }
      ],
      "execution_count": 37
    },
    {
      "cell_type": "markdown",
      "source": "3. Find the (a) first, (b) second, (c) third, and (d ) fourth moments about the number 75 for the set of female height measurements.",
      "metadata": {}
    },
    {
      "cell_type": "code",
      "source": "def moments_75(data):\n    n = len(data)\n    m1 = np.sum(np.power([x - 75 for x in data],1)) / n\n    m2 = np.sum(np.power([x - 75 for x in data],2)) / n\n    m3 = np.sum(np.power([x - 75 for x in data],3)) / n\n    m4 = np.sum(np.power([x - 75 for x in data],4)) / n\n    \n    return m1,m2,m3,m4\n\nnormal_moments_75 = moments_75(normal)\nnormal_moments_75_df = pd.DataFrame({'Female Height Measurements':normal_moments_75})\n\nnormal_moments_75_df.rename(index={0:'1st Moment', 1:'2nd Moment', 2:'3rd Moment', 3:'4th Moment'})",
      "metadata": {
        "trusted": true
      },
      "outputs": [
        {
          "execution_count": 35,
          "output_type": "execute_result",
          "data": {
            "text/plain": "            Female Height Measurements\n1st Moment                     -9.8800\n2nd Moment                    105.9200\n3rd Moment                  -1211.0800\n4th Moment                  14572.6400",
            "text/html": "<div>\n<style scoped>\n    .dataframe tbody tr th:only-of-type {\n        vertical-align: middle;\n    }\n\n    .dataframe tbody tr th {\n        vertical-align: top;\n    }\n\n    .dataframe thead th {\n        text-align: right;\n    }\n</style>\n<table border=\"1\" class=\"dataframe\">\n  <thead>\n    <tr style=\"text-align: right;\">\n      <th></th>\n      <th>Female Height Measurements</th>\n    </tr>\n  </thead>\n  <tbody>\n    <tr>\n      <th>1st Moment</th>\n      <td>-9.8800</td>\n    </tr>\n    <tr>\n      <th>2nd Moment</th>\n      <td>105.9200</td>\n    </tr>\n    <tr>\n      <th>3rd Moment</th>\n      <td>-1211.0800</td>\n    </tr>\n    <tr>\n      <th>4th Moment</th>\n      <td>14572.6400</td>\n    </tr>\n  </tbody>\n</table>\n</div>"
          },
          "metadata": {}
        }
      ],
      "execution_count": 35
    },
    {
      "cell_type": "markdown",
      "source": "Using the results of items 2 and 3 for the set of female height measurements, verify the relations between the moments (a)\n",
      "metadata": {}
    },
    {
      "cell_type": "code",
      "source": "",
      "metadata": {
        "trusted": true
      },
      "outputs": [],
      "execution_count": null
    },
    {
      "cell_type": "code",
      "source": "",
      "metadata": {
        "trusted": true
      },
      "outputs": [],
      "execution_count": null
    }
  ]
}
{
 "cells": [
  {
   "cell_type": "code",
   "execution_count": 4,
   "id": "f731d11c",
   "metadata": {},
   "outputs": [],
   "source": [
    "import pandas as pd"
   ]
  },
  {
   "cell_type": "code",
   "execution_count": 6,
   "id": "e804ad54",
   "metadata": {},
   "outputs": [],
   "source": [
    "scores = [88, 45, 53, 86, 33, 86, 85, 30, 89, 53, 41, 96, 56, 38, 62, 71, 51, 86, 68, 29, 28, 47, 33, 37, 25, 36, 33, 94, 73, 46, 42, 34, 79, 72, 88, 99, 82, 62, 57, 42, 28, 55, 67, 62, 60, 96, 61, 57, 75, 93, 34, 75, 53, 32, 28, 73, 51, 69, 91, 35]"
   ]
  },
  {
   "cell_type": "code",
   "execution_count": 30,
   "id": "8a23bd8b",
   "metadata": {},
   "outputs": [],
   "source": [
    "scores_df = pd.DataFrame(pd.Series(scores))\n",
    "measures = scores_df.agg(['count','median','mean', 'std',  'skew', 'min', 'max'])\n",
    "measures = measures.rename(index={'count': 'Valid', 'median':'Median', 'mean': 'Mean', 'std': 'Standard Deviation', 'min': 'Minimum', 'max': 'Maximum','skew': 'Skewness'})"
   ]
  },
  {
   "cell_type": "code",
   "execution_count": 29,
   "id": "c54418dc",
   "metadata": {},
   "outputs": [
    {
     "data": {
      "text/html": [
       "<div>\n",
       "<style scoped>\n",
       "    .dataframe tbody tr th:only-of-type {\n",
       "        vertical-align: middle;\n",
       "    }\n",
       "\n",
       "    .dataframe tbody tr th {\n",
       "        vertical-align: top;\n",
       "    }\n",
       "\n",
       "    .dataframe thead th {\n",
       "        text-align: right;\n",
       "    }\n",
       "</style>\n",
       "<table border=\"1\" class=\"dataframe\">\n",
       "  <thead>\n",
       "    <tr style=\"text-align: right;\">\n",
       "      <th></th>\n",
       "      <th>0</th>\n",
       "    </tr>\n",
       "  </thead>\n",
       "  <tbody>\n",
       "    <tr>\n",
       "      <th>Valid</th>\n",
       "      <td>60.000000</td>\n",
       "    </tr>\n",
       "    <tr>\n",
       "      <th>Median</th>\n",
       "      <td>57.000000</td>\n",
       "    </tr>\n",
       "    <tr>\n",
       "      <th>Mean</th>\n",
       "      <td>59.166667</td>\n",
       "    </tr>\n",
       "    <tr>\n",
       "      <th>Standard Deviation</th>\n",
       "      <td>22.210981</td>\n",
       "    </tr>\n",
       "    <tr>\n",
       "      <th>Skewness</th>\n",
       "      <td>0.167175</td>\n",
       "    </tr>\n",
       "    <tr>\n",
       "      <th>Minimum</th>\n",
       "      <td>25.000000</td>\n",
       "    </tr>\n",
       "    <tr>\n",
       "      <th>Maximum</th>\n",
       "      <td>99.000000</td>\n",
       "    </tr>\n",
       "  </tbody>\n",
       "</table>\n",
       "</div>"
      ],
      "text/plain": [
       "                            0\n",
       "Valid               60.000000\n",
       "Median              57.000000\n",
       "Mean                59.166667\n",
       "Standard Deviation  22.210981\n",
       "Skewness             0.167175\n",
       "Minimum             25.000000\n",
       "Maximum             99.000000"
      ]
     },
     "execution_count": 29,
     "metadata": {},
     "output_type": "execute_result"
    }
   ],
   "source": [
    "measures"
   ]
  },
  {
   "cell_type": "code",
   "execution_count": 45,
   "id": "852a0a72",
   "metadata": {},
   "outputs": [
    {
     "data": {
      "text/html": [
       "<div>\n",
       "<style scoped>\n",
       "    .dataframe tbody tr th:only-of-type {\n",
       "        vertical-align: middle;\n",
       "    }\n",
       "\n",
       "    .dataframe tbody tr th {\n",
       "        vertical-align: top;\n",
       "    }\n",
       "\n",
       "    .dataframe thead th {\n",
       "        text-align: right;\n",
       "    }\n",
       "</style>\n",
       "<table border=\"1\" class=\"dataframe\">\n",
       "  <thead>\n",
       "    <tr style=\"text-align: right;\">\n",
       "      <th></th>\n",
       "      <th>0</th>\n",
       "    </tr>\n",
       "  </thead>\n",
       "  <tbody>\n",
       "    <tr>\n",
       "      <th>25th percentile</th>\n",
       "      <td>37.75</td>\n",
       "    </tr>\n",
       "    <tr>\n",
       "      <th>50th percentile</th>\n",
       "      <td>57.00</td>\n",
       "    </tr>\n",
       "    <tr>\n",
       "      <th>75th percentile</th>\n",
       "      <td>76.00</td>\n",
       "    </tr>\n",
       "    <tr>\n",
       "      <th>90th percentile</th>\n",
       "      <td>89.20</td>\n",
       "    </tr>\n",
       "    <tr>\n",
       "      <th>95th percentile</th>\n",
       "      <td>94.10</td>\n",
       "    </tr>\n",
       "  </tbody>\n",
       "</table>\n",
       "</div>"
      ],
      "text/plain": [
       "                     0\n",
       "25th percentile  37.75\n",
       "50th percentile  57.00\n",
       "75th percentile  76.00\n",
       "90th percentile  89.20\n",
       "95th percentile  94.10"
      ]
     },
     "execution_count": 45,
     "metadata": {},
     "output_type": "execute_result"
    }
   ],
   "source": [
    "percentiles = scores_df.quantile([0.25, 0.50, 0.75, 0.90, 0.95])\n",
    "\n",
    "percentiles = percentiles.rename(index={0.25: '25th percentile', 0.5: '50th percentile', 0.75: '75th percentile', 0.9: '90th percentile', 0.95:'95th percentile'})\n",
    "\n",
    "percentiles"
   ]
  },
  {
   "cell_type": "code",
   "execution_count": 48,
   "id": "a83c24bb",
   "metadata": {},
   "outputs": [
    {
     "data": {
      "text/html": [
       "<div>\n",
       "<style scoped>\n",
       "    .dataframe tbody tr th:only-of-type {\n",
       "        vertical-align: middle;\n",
       "    }\n",
       "\n",
       "    .dataframe tbody tr th {\n",
       "        vertical-align: top;\n",
       "    }\n",
       "\n",
       "    .dataframe thead th {\n",
       "        text-align: right;\n",
       "    }\n",
       "</style>\n",
       "<table border=\"1\" class=\"dataframe\">\n",
       "  <thead>\n",
       "    <tr style=\"text-align: right;\">\n",
       "      <th></th>\n",
       "      <th>Score</th>\n",
       "    </tr>\n",
       "  </thead>\n",
       "  <tbody>\n",
       "    <tr>\n",
       "      <th>Valid</th>\n",
       "      <td>60.000000</td>\n",
       "    </tr>\n",
       "    <tr>\n",
       "      <th>Median</th>\n",
       "      <td>57.000000</td>\n",
       "    </tr>\n",
       "    <tr>\n",
       "      <th>Mean</th>\n",
       "      <td>59.166667</td>\n",
       "    </tr>\n",
       "    <tr>\n",
       "      <th>Standard Deviation</th>\n",
       "      <td>22.210981</td>\n",
       "    </tr>\n",
       "    <tr>\n",
       "      <th>Skewness</th>\n",
       "      <td>0.167175</td>\n",
       "    </tr>\n",
       "    <tr>\n",
       "      <th>Minimum</th>\n",
       "      <td>25.000000</td>\n",
       "    </tr>\n",
       "    <tr>\n",
       "      <th>Maximum</th>\n",
       "      <td>99.000000</td>\n",
       "    </tr>\n",
       "    <tr>\n",
       "      <th>25th percentile</th>\n",
       "      <td>37.750000</td>\n",
       "    </tr>\n",
       "    <tr>\n",
       "      <th>50th percentile</th>\n",
       "      <td>57.000000</td>\n",
       "    </tr>\n",
       "    <tr>\n",
       "      <th>75th percentile</th>\n",
       "      <td>76.000000</td>\n",
       "    </tr>\n",
       "    <tr>\n",
       "      <th>90th percentile</th>\n",
       "      <td>89.200000</td>\n",
       "    </tr>\n",
       "    <tr>\n",
       "      <th>95th percentile</th>\n",
       "      <td>94.100000</td>\n",
       "    </tr>\n",
       "  </tbody>\n",
       "</table>\n",
       "</div>"
      ],
      "text/plain": [
       "                        Score\n",
       "Valid               60.000000\n",
       "Median              57.000000\n",
       "Mean                59.166667\n",
       "Standard Deviation  22.210981\n",
       "Skewness             0.167175\n",
       "Minimum             25.000000\n",
       "Maximum             99.000000\n",
       "25th percentile     37.750000\n",
       "50th percentile     57.000000\n",
       "75th percentile     76.000000\n",
       "90th percentile     89.200000\n",
       "95th percentile     94.100000"
      ]
     },
     "execution_count": 48,
     "metadata": {},
     "output_type": "execute_result"
    }
   ],
   "source": [
    "table_df = pd.concat([measures,percentiles])\n",
    "table_df = table_df.rename(columns={0:'Score'})\n",
    "\n",
    "table_df"
   ]
  },
  {
   "cell_type": "code",
   "execution_count": null,
   "id": "c99aed24",
   "metadata": {},
   "outputs": [],
   "source": []
  },
  {
   "cell_type": "code",
   "execution_count": null,
   "id": "db2e57db",
   "metadata": {},
   "outputs": [],
   "source": []
  }
 ],
 "metadata": {
  "kernelspec": {
   "display_name": "Python 3 (ipykernel)",
   "language": "python",
   "name": "python3"
  },
  "language_info": {
   "codemirror_mode": {
    "name": "ipython",
    "version": 3
   },
   "file_extension": ".py",
   "mimetype": "text/x-python",
   "name": "python",
   "nbconvert_exporter": "python",
   "pygments_lexer": "ipython3",
   "version": "3.9.13"
  }
 },
 "nbformat": 4,
 "nbformat_minor": 5
}

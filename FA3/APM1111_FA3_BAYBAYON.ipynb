{
  "metadata": {
    "kernelspec": {
      "name": "python",
      "display_name": "Python (Pyodide)",
      "language": "python"
    },
    "language_info": {
      "codemirror_mode": {
        "name": "python",
        "version": 3
      },
      "file_extension": ".py",
      "mimetype": "text/x-python",
      "name": "python",
      "nbconvert_exporter": "python",
      "pygments_lexer": "ipython3",
      "version": "3.8"
    }
  },
  "nbformat_minor": 4,
  "nbformat": 4,
  "cells": [
    {
      "cell_type": "code",
      "source": "import pandas as pd\nimport numpy as np",
      "metadata": {
        "trusted": true
      },
      "outputs": [],
      "execution_count": 26
    },
    {
      "cell_type": "code",
      "source": "scores = [88, 45, 53, 86, 33, 86, 85, 30, 89, 53, 41, 96, 56, 38, 62, 71, 51, 86, 68, 29, 28, 47, 33, 37, 25, 36, 33, 94, 73, 46, 42, 34, 79, 72, 88, 99, 82, 62, 57, 42, 28, 55, 67, 62, 60, 96, 61, 57, 75, 93, 34, 75, 53, 32, 28, 73, 51, 69, 91, 35]\nscores_df = pd.DataFrame(pd.Series(scores))\ncount = scores_df.count().to_frame(name=\"Valid\").transpose()\n\nmeasures = scores_df.agg(['median','mean', 'std', 'var',  'skew', 'kurt'])\nmeasures = measures.rename(index={'median':'Median', 'mean': 'Mean', 'std': 'Standard Deviation', 'var': 'Variance', 'min': 'Minimum', 'max': 'Maximum','skew': 'Skewness', 'kurt':'Kurtosis'})\nmode = pd.Series(scores).mode().tolist()\nmode_dict = {'Mode': mode}\nmode_df= pd.DataFrame(mode_dict)\nmode_first = mode_df.transpose()[0].to_frame()\n\nmin_val = scores_df.min().to_frame(name=\"Minimum\").transpose()\nmax_val = scores_df.max().to_frame(name=\"Maximum\").transpose()\n\npercentiles = scores_df.quantile([0.25, 0.50, 0.75, 0.90, 0.95])\n\npercentiles = percentiles.rename(index={0.25: '25th percentile', 0.5: '50th percentile', 0.75: '75th percentile', 0.9: '90th percentile', 0.95:'95th percentile'})\n\n\nskew_err_formula = lambda x: np.sqrt((6 * len(x) * (len(x)-1))/((len(x)-2) * (len(x)+1) * (len(x)+3)))\nskew_stderror = scores_df.apply(skew_err_formula)\nskew_stderror = skew_stderror.to_frame(name='Std. Error of Skewness').transpose()\n\n# std error of kurt\n# kurt_err_formula = lambda x: 2 * skew_stderror * (np.sqrt(((len(x))**2-1)/(len(x)-3)(len(x)+5)))\nkurt_err_formula = lambda x: np.sqrt((24 * len(x) * (len(x) - 1) * (len(x) - 1)) / ((len(x) - 3) * (len(x) - 2) * (len(x) + 3) * (len(x) +5)))\n\nkurt_stderror = scores_df.apply(kurt_err_formula)\nkurt_stderror = kurt_stderror.to_frame(name='Std. Error of Kurtosis').transpose()\n\ntable_df = pd.concat([count,mode_first, measures, skew_stderror, kurt_stderror, min_val, max_val, percentiles])\ntable_df = table_df.rename(columns={0:'Score'})\n\n\ntable_df\n ",
      "metadata": {
        "trusted": true
      },
      "outputs": [
        {
          "execution_count": 62,
          "output_type": "execute_result",
          "data": {
            "text/plain": "                             Score\nValid                    60.000000\nMode                     28.000000\nMedian                   57.000000\nMean                     59.166667\nStandard Deviation       22.210981\nVariance                493.327684\nSkewness                  0.167175\nKurtosis                 -1.244135\nStd. Error of Skewness    0.308694\nStd. Error of Kurtosis    0.608492\nMinimum                  25.000000\nMaximum                  99.000000\n25th percentile          37.750000\n50th percentile          57.000000\n75th percentile          76.000000\n90th percentile          89.200000\n95th percentile          94.100000",
            "text/html": "<div>\n<style scoped>\n    .dataframe tbody tr th:only-of-type {\n        vertical-align: middle;\n    }\n\n    .dataframe tbody tr th {\n        vertical-align: top;\n    }\n\n    .dataframe thead th {\n        text-align: right;\n    }\n</style>\n<table border=\"1\" class=\"dataframe\">\n  <thead>\n    <tr style=\"text-align: right;\">\n      <th></th>\n      <th>Score</th>\n    </tr>\n  </thead>\n  <tbody>\n    <tr>\n      <th>Valid</th>\n      <td>60.000000</td>\n    </tr>\n    <tr>\n      <th>Mode</th>\n      <td>28.000000</td>\n    </tr>\n    <tr>\n      <th>Median</th>\n      <td>57.000000</td>\n    </tr>\n    <tr>\n      <th>Mean</th>\n      <td>59.166667</td>\n    </tr>\n    <tr>\n      <th>Standard Deviation</th>\n      <td>22.210981</td>\n    </tr>\n    <tr>\n      <th>Variance</th>\n      <td>493.327684</td>\n    </tr>\n    <tr>\n      <th>Skewness</th>\n      <td>0.167175</td>\n    </tr>\n    <tr>\n      <th>Kurtosis</th>\n      <td>-1.244135</td>\n    </tr>\n    <tr>\n      <th>Std. Error of Skewness</th>\n      <td>0.308694</td>\n    </tr>\n    <tr>\n      <th>Std. Error of Kurtosis</th>\n      <td>0.608492</td>\n    </tr>\n    <tr>\n      <th>Minimum</th>\n      <td>25.000000</td>\n    </tr>\n    <tr>\n      <th>Maximum</th>\n      <td>99.000000</td>\n    </tr>\n    <tr>\n      <th>25th percentile</th>\n      <td>37.750000</td>\n    </tr>\n    <tr>\n      <th>50th percentile</th>\n      <td>57.000000</td>\n    </tr>\n    <tr>\n      <th>75th percentile</th>\n      <td>76.000000</td>\n    </tr>\n    <tr>\n      <th>90th percentile</th>\n      <td>89.200000</td>\n    </tr>\n    <tr>\n      <th>95th percentile</th>\n      <td>94.100000</td>\n    </tr>\n  </tbody>\n</table>\n</div>"
          },
          "metadata": {}
        }
      ],
      "execution_count": 62
    },
    {
      "cell_type": "code",
      "source": "",
      "metadata": {
        "trusted": true
      },
      "outputs": [],
      "execution_count": 45
    }
  ]
}